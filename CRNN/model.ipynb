{
 "cells": [
  {
   "cell_type": "code",
   "execution_count": null,
   "metadata": {},
   "outputs": [],
   "source": [
    "import cv2\n",
    "import os\n",
    "import numpy as np\n",
    "from PIL import Image\n",
    "from tensorflow.keras.preprocessing.sequence import pad_sequences\n",
    "import tensorflow as tf\n",
    "from tensorflow import keras\n",
    "from tensorflow.keras import layers"
   ]
  },
  {
   "cell_type": "code",
   "execution_count": null,
   "metadata": {},
   "outputs": [],
   "source": [
    "################# Initialize the paths #################\n",
    "\n",
    "input_dir = \"C:\\\\Users\\\\DELL\\\\Downloads\\\\DL\\\\Raw\"  \n",
    "\n",
    "output_drowsy_dir = \"C:\\\\Users\\\\DELL\\\\Downloads\\\\DL\\\\Augment\\\\Drowsy\"\n",
    "output_non_drowsy_dir = \"C:\\\\Users\\\\DELL\\\\Downloads\\\\DL\\\\Augment\\\\Non Drowsy\"\n",
    "output_dir_resize = \"C:\\\\Users\\\\DELL\\\\Downloads\\\\DL\\\\Resize\"\n",
    "parent_dir = \"C:\\\\Users\\\\DELL\\\\Downloads\\\\DL\\\\Augment\"\n",
    "os.makedirs(output_drowsy_dir, exist_ok=True)\n",
    "os.makedirs(output_non_drowsy_dir, exist_ok=True)\n",
    "os.makedirs(output_dir_resize, exist_ok=True)\n",
    "classes = [\"Drowsy\", \"Non Drowsy\"]"
   ]
  },
  {
   "cell_type": "code",
   "execution_count": null,
   "metadata": {},
   "outputs": [],
   "source": [
    "################ Data Augmentation ###################\n",
    "\n",
    "rotation_angles = [-10, 10 ]  \n",
    "\n",
    "# Perform data augmentation for each class\n",
    "for class_name in classes:\n",
    "    class_input_dir = os.path.join(input_dir, class_name)\n",
    "    class_output_dir = output_drowsy_dir if class_name == \"Drowsy\" else output_non_drowsy_dir\n",
    "\n",
    "    # List the files in the class input directory\n",
    "    file_list = os.listdir(class_input_dir)\n",
    "\n",
    "    for file_name in file_list:\n",
    "        if file_name.endswith(\".png\"):  \n",
    "            # Read the image\n",
    "            img = cv2.imread(os.path.join(class_input_dir, file_name))\n",
    "\n",
    "           \n",
    "            for angle in rotation_angles:\n",
    "                # Rotate the image\n",
    "                rotated_img = np.array(Image.fromarray(img).rotate(angle))\n",
    "\n",
    "                # Save the augmented image in the appropriate class output directory\n",
    "                output_file = os.path.join(class_output_dir, f\"rotated_{angle}_{file_name}\")\n",
    "                cv2.imwrite(output_file, rotated_img)\n",
    "\n",
    "            # Horizontal flip\n",
    "            flipped_img = cv2.flip(img, 1)\n",
    "\n",
    "            # Save the flipped image in the appropriate class output directory\n",
    "            output_file = os.path.join(class_output_dir, f\"flipped_{file_name}\")\n",
    "            cv2.imwrite(output_file, flipped_img)"
   ]
  }
 ],
 "metadata": {
  "language_info": {
   "name": "python"
  },
  "orig_nbformat": 4
 },
 "nbformat": 4,
 "nbformat_minor": 2
}
